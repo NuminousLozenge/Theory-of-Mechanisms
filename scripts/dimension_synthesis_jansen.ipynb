{
 "cells": [
  {
   "cell_type": "code",
   "execution_count": 2,
   "id": "c133b2be-22d8-4d69-98e7-05b6c108d142",
   "metadata": {},
   "outputs": [],
   "source": [
    "import matplotlib.animation\n",
    "import numpy as np\n",
    "import matplotlib.pyplot as plt\n",
    "\n",
    "from jansen_linkage import jansenLinkage\n",
    "from tom_utils import Point, fourBar\n",
    "from tom_utils import freudenstein_method, burmester_method\n",
    "\n",
    "plt.rcParams[\"animation.html\"] = \"jshtml\"\n",
    "plt.rcParams['figure.dpi'] = 150  \n",
    "plt.rcParams[\"figure.autolayout\"] = True\n",
    "plt.rcParams['figure.constrained_layout.use'] = True\n",
    "plt.ioff()\n",
    "%matplotlib inline"
   ]
  }
 ],
 "metadata": {
  "kernelspec": {
   "display_name": "pyfun_venv",
   "language": "python",
   "name": "pyfun_venv"
  },
  "language_info": {
   "codemirror_mode": {
    "name": "ipython",
    "version": 3
   },
   "file_extension": ".py",
   "mimetype": "text/x-python",
   "name": "python",
   "nbconvert_exporter": "python",
   "pygments_lexer": "ipython3",
   "version": "3.10.12"
  }
 },
 "nbformat": 4,
 "nbformat_minor": 5
}
